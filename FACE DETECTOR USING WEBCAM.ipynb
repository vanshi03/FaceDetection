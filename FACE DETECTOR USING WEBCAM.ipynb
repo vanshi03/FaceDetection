{
 "cells": [
  {
   "cell_type": "code",
   "execution_count": 3,
   "metadata": {},
   "outputs": [],
   "source": [
    "import cv2"
   ]
  },
  {
   "cell_type": "code",
   "execution_count": 4,
   "metadata": {},
   "outputs": [],
   "source": [
    "face_cascade = cv2.CascadeClassifier('face_detector.xml');\n",
    "video = cv2.VideoCapture(0);\n",
    "while True:\n",
    "    if video.isOpened()==False:\n",
    "        print(\"could not open window!\")\n",
    "    check, frame = video.read();               #read the first frame\n",
    "    if check==False:\n",
    "        print(\"cannot read video\")\n",
    "    faces = face_cascade.detectMultiScale(frame,\n",
    "                                          scaleFactor=1.1, minNeighbors=5);\n",
    "    for x,y,w,h in faces:\n",
    "        frame = cv2.rectangle(frame, (x,y), (x+w,y+h), (0,255,0), 3);\n",
    "\n",
    "    cv2.imshow('Face Detector', frame);\n",
    "\n",
    "    key = cv2.waitKey(1);\n",
    "\n",
    "    if key == ord('q'):\n",
    "        break;\n",
    "\n",
    "video.release();\n",
    "cv2.destroyAllWindows();"
   ]
  },
  {
   "cell_type": "code",
   "execution_count": null,
   "metadata": {},
   "outputs": [],
   "source": []
  }
 ],
 "metadata": {
  "kernelspec": {
   "display_name": "Python 3",
   "language": "python",
   "name": "python3"
  },
  "language_info": {
   "codemirror_mode": {
    "name": "ipython",
    "version": 3
   },
   "file_extension": ".py",
   "mimetype": "text/x-python",
   "name": "python",
   "nbconvert_exporter": "python",
   "pygments_lexer": "ipython3",
   "version": "3.7.6"
  }
 },
 "nbformat": 4,
 "nbformat_minor": 4
}
